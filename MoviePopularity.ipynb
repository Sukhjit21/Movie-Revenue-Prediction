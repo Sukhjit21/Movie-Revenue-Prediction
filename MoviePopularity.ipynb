{
  "nbformat": 4,
  "nbformat_minor": 0,
  "metadata": {
    "colab": {
      "provenance": [],
      "authorship_tag": "ABX9TyM8UcgenjgzdN4lW1IdCRxk"
    },
    "kernelspec": {
      "name": "python3",
      "display_name": "Python 3"
    },
    "language_info": {
      "name": "python"
    }
  },
  "cells": [
    {
      "cell_type": "markdown",
      "source": [
        "ECS 171 Group Project"
      ],
      "metadata": {
        "id": "KDpB1QoR7ggv"
      }
    },
    {
      "cell_type": "markdown",
      "source": [
        "**Project Overview**"
      ],
      "metadata": {
        "id": "iwmyciOL7pAV"
      }
    },
    {
      "cell_type": "markdown",
      "source": [
        "In this project, an in-depth analysis is conducted on a comprehensive dataset comprising the top 10,000 movies, focusing on exploring the correlations between Genre and Budget, and using those to predict Popularity. By dissecting the intricate interplay between these factors, this study seeks to uncover patterns that contribute to a film's success. Through this analysis, valuable insights could be gained into the dynamics of the film industry, aiding filmmakers and producers in making informed decisions to maximize both artistic and commercial achievements. This study's findings have the potential to reshape the film industry landscape by providing guidance to filmmakers, producers, and investors. The shocking results will unveil a plot-twist unlike any other: the secret to making a popular movie!"
      ],
      "metadata": {
        "id": "VS_JD_fI71Re"
      }
    }
  ]
}